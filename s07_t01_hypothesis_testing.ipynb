{
 "cells": [
  {
   "cell_type": "markdown",
   "id": "857001a9",
   "metadata": {},
   "source": [
    "$~$\n",
    "\n",
    "# IT Academy - Data Science Itinerary\n",
    "\n",
    "\n",
    "\n",
    "$~$"
   ]
  },
  {
   "cell_type": "markdown",
   "id": "ad6e86cc",
   "metadata": {},
   "source": [
    "## S07 T01: Hypothesis Testing\n",
    "___\n"
   ]
  },
  {
   "cell_type": "code",
   "execution_count": 1,
   "id": "343f71ef",
   "metadata": {
    "ExecuteTime": {
     "end_time": "2022-03-30T07:37:45.991021Z",
     "start_time": "2022-03-30T07:37:41.321427Z"
    }
   },
   "outputs": [],
   "source": [
    "# importing libraries\n",
    "import pandas as pd\n",
    "import kaggle\n",
    "import scipy\n",
    "from scipy import stats\n",
    "import os\n",
    "import numpy as np\n",
    "import matplotlib.pyplot as plt\n",
    "import seaborn as sns\n",
    "import plotnine as p9\n",
    "from sklearn import preprocessing\n",
    "import pylab\n",
    "from scipy.stats import norm\n",
    "import statsmodels.api as sm\n"
   ]
  },
  {
   "cell_type": "markdown",
   "id": "53b46b5e",
   "metadata": {},
   "source": [
    " ___\n",
    " \n",
    " $~$\n",
    "\n",
    " first, let's search for a dataset:\n",
    " \n",
    "  $~$\n",
    " "
   ]
  },
  {
   "cell_type": "code",
   "execution_count": 2,
   "id": "314815bf",
   "metadata": {
    "ExecuteTime": {
     "end_time": "2022-03-30T07:37:49.849191Z",
     "start_time": "2022-03-30T07:37:48.038674Z"
    }
   },
   "outputs": [
    {
     "name": "stdout",
     "output_type": "stream",
     "text": [
      "ref                                                                    title                                                size  lastUpdated          downloadCount  voteCount  usabilityRating  \r\n",
      "---------------------------------------------------------------------  --------------------------------------------------  -----  -------------------  -------------  ---------  ---------------  \r\n",
      "datasets/heesoo37/120-years-of-olympic-history-athletes-and-results    120 years of Olympic history: athletes and results    5MB  2018-06-15 06:10:41          96622       1701  0.8235294        \r\n",
      "datasets/stefanzivanov/olympic-games-2021-medals                       Olympic Games 2021 Medals                             3KB  2021-10-16 20:07:59           2100         44  1.0              \r\n",
      "datasets/mysarahmadbhat/120-years-of-olympic-history                   120 Years of Olympic History                          5MB  2021-08-09 02:26:36           2036         57  1.0              \r\n",
      "datasets/jayrav13/olympic-track-field-results                          Olympic Track & Field Results                        80KB  2017-05-26 02:42:35           3536         53  0.7647059        \r\n",
      "datasets/the-guardian/olympic-games                                    Olympic Sports and Medals, 1896-2014                483KB  2017-01-24 15:05:37          23398        210  0.7058824        \r\n",
      "datasets/piterfm/beijing-2022-olympics                                 Beijing 2022 Olympic Winter Games                   255KB  2022-02-20 12:07:42           1761         43  1.0              \r\n",
      "datasets/berkayalan/2021-olympics-medals-in-tokyo                      Tokyo 2020 Olympics Medals                            1KB  2021-08-09 19:36:13           2757         62  1.0              \r\n",
      "datasets/ramontanoeiro/winter-olympic-medals-1924-2018                 Winter Olympic Medals 1924 - 2018                     3KB  2021-09-09 02:39:45            332         13  1.0              \r\n",
      "datasets/piterfm/olympic-games-medals-19862018                         Olympic Games, 1986-2021                             14MB  2022-01-30 17:53:56           1076         19  1.0              \r\n",
      "datasets/ramontanoeiro/summer-olympic-medals-1986-2020                 Summer Olympic Medals 1896 - 2020                    10KB  2021-09-09 02:34:15           1161         33  1.0              \r\n",
      "datasets/piterfm/tokyo-2020-olympics                                   Tokyo 2020 Olympic Summer Games                     670KB  2021-08-30 21:26:33           1660         25  1.0              \r\n",
      "datasets/mpwolke/cusersmarilonedriverea-de-trabalhomedalcsv            Olympic Medal Rewards                                513B  2021-07-28 13:33:43             62         15  1.0              \r\n",
      "datasets/piterfm/olympic-results-biathlon                              Olympic Results Biathlon                              5KB  2018-09-17 10:39:56            327          7  1.0              \r\n",
      "datasets/vaibhavchopra2/olympic-games-beijing-2022                     Olympic Games Beijing 2022                           10KB  2022-02-22 05:21:57            621         19  0.7058824        \r\n",
      "datasets/alexkoshchii/olympicflags                                     Olympic Flags                                       761KB  2021-09-21 15:53:25             20          4  0.875            \r\n",
      "datasets/rushikeshlavate/olympic-games-medal-datasetfrom-1896-to-2018  Olympic Games medal Dataset(from 1896 to 2018)        4KB  2021-01-03 05:56:23            971         25  0.7647059        \r\n",
      "datasets/mathurinache/women-in-the-olympic-games                       Women in the Olympic Games                          113KB  2021-03-14 21:02:10            166         11  1.0              \r\n",
      "datasets/kukuroo3/beijing-olympic2022-athlete-profile                  Beijing Olympic(2022) athlete Profile                 1MB  2022-02-01 13:48:54             98         13  0.5882353        \r\n",
      "datasets/jeronimojr/tokyo-2021-medal-table                             Tokyo 2020 Medal Table                                1KB  2021-09-30 01:16:15            241         10  0.9411765        \r\n",
      "datasets/piterfm/olympic-games-hosts                                   Olympic Games Hosts                                   3KB  2020-04-24 20:46:29            120          1  1.0              \r\n"
     ]
    }
   ],
   "source": [
    "!kaggle datasets list -s \"Olympic\"\n"
   ]
  },
  {
   "cell_type": "markdown",
   "id": "8f557660",
   "metadata": {},
   "source": [
    " $~$\n",
    "\n",
    " for this exercice we are going to use this [dataset](https://www.kaggle.com/datasets/heesoo37/120-years-of-olympic-history-athletes-and-results?select=athlete_events.csv)\n",
    "  \n",
    " $~$\n",
    "\n",
    " let's use the following code to download the dataset from kagggle:\n",
    "    \n",
    " $~$"
   ]
  },
  {
   "cell_type": "code",
   "execution_count": 4,
   "id": "d1ec2433",
   "metadata": {
    "ExecuteTime": {
     "end_time": "2022-03-30T07:38:20.615658Z",
     "start_time": "2022-03-30T07:38:14.211699Z"
    }
   },
   "outputs": [
    {
     "name": "stdout",
     "output_type": "stream",
     "text": [
      "Downloading 120-years-of-olympic-history-athletes-and-results.zip to ./data\n",
      "100%|██████████████████████████████████████| 5.43M/5.43M [00:04<00:00, 1.44MB/s]\n",
      "100%|██████████████████████████████████████| 5.43M/5.43M [00:04<00:00, 1.33MB/s]\n"
     ]
    }
   ],
   "source": [
    "PATH = \"./data\"\n",
    "\n",
    "if not os.path.exists(PATH):\n",
    "    os.makedirs(PATH)\n",
    "if not os.listdir(PATH):\n",
    "    !kaggle datasets download -d \"heesoo37/120-years-of-olympic-history-athletes-and-results\" --unzip -p $PATH\n"
   ]
  },
  {
   "cell_type": "code",
   "execution_count": 5,
   "id": "e3cd6b5e",
   "metadata": {
    "ExecuteTime": {
     "end_time": "2022-03-30T07:38:24.666499Z",
     "start_time": "2022-03-30T07:38:24.658164Z"
    }
   },
   "outputs": [
    {
     "name": "stdout",
     "output_type": "stream",
     "text": [
      "./data/noc_regions.csv\n",
      "./data/athlete_events.csv\n"
     ]
    }
   ],
   "source": [
    "files = [os.path.join(PATH, f) for f in os.listdir(PATH)]\n",
    "\n",
    "for f in files:\n",
    "    print(f)\n"
   ]
  },
  {
   "cell_type": "code",
   "execution_count": 6,
   "id": "1761bc16",
   "metadata": {
    "ExecuteTime": {
     "end_time": "2022-03-30T07:38:26.831484Z",
     "start_time": "2022-03-30T07:38:26.312090Z"
    }
   },
   "outputs": [],
   "source": [
    "df = pd.read_csv(files[1])\n"
   ]
  },
  {
   "cell_type": "code",
   "execution_count": 7,
   "id": "0b5ed813",
   "metadata": {
    "ExecuteTime": {
     "end_time": "2022-03-30T07:38:27.972210Z",
     "start_time": "2022-03-30T07:38:27.949413Z"
    }
   },
   "outputs": [
    {
     "data": {
      "text/html": [
       "<div>\n",
       "<style scoped>\n",
       "    .dataframe tbody tr th:only-of-type {\n",
       "        vertical-align: middle;\n",
       "    }\n",
       "\n",
       "    .dataframe tbody tr th {\n",
       "        vertical-align: top;\n",
       "    }\n",
       "\n",
       "    .dataframe thead th {\n",
       "        text-align: right;\n",
       "    }\n",
       "</style>\n",
       "<table border=\"1\" class=\"dataframe\">\n",
       "  <thead>\n",
       "    <tr style=\"text-align: right;\">\n",
       "      <th></th>\n",
       "      <th>ID</th>\n",
       "      <th>Name</th>\n",
       "      <th>Sex</th>\n",
       "      <th>Age</th>\n",
       "      <th>Height</th>\n",
       "      <th>Weight</th>\n",
       "      <th>Team</th>\n",
       "      <th>NOC</th>\n",
       "      <th>Games</th>\n",
       "      <th>Year</th>\n",
       "      <th>Season</th>\n",
       "      <th>City</th>\n",
       "      <th>Sport</th>\n",
       "      <th>Event</th>\n",
       "      <th>Medal</th>\n",
       "    </tr>\n",
       "  </thead>\n",
       "  <tbody>\n",
       "    <tr>\n",
       "      <th>0</th>\n",
       "      <td>1</td>\n",
       "      <td>A Dijiang</td>\n",
       "      <td>M</td>\n",
       "      <td>24.0</td>\n",
       "      <td>180.0</td>\n",
       "      <td>80.0</td>\n",
       "      <td>China</td>\n",
       "      <td>CHN</td>\n",
       "      <td>1992 Summer</td>\n",
       "      <td>1992</td>\n",
       "      <td>Summer</td>\n",
       "      <td>Barcelona</td>\n",
       "      <td>Basketball</td>\n",
       "      <td>Basketball Men's Basketball</td>\n",
       "      <td>NaN</td>\n",
       "    </tr>\n",
       "    <tr>\n",
       "      <th>1</th>\n",
       "      <td>2</td>\n",
       "      <td>A Lamusi</td>\n",
       "      <td>M</td>\n",
       "      <td>23.0</td>\n",
       "      <td>170.0</td>\n",
       "      <td>60.0</td>\n",
       "      <td>China</td>\n",
       "      <td>CHN</td>\n",
       "      <td>2012 Summer</td>\n",
       "      <td>2012</td>\n",
       "      <td>Summer</td>\n",
       "      <td>London</td>\n",
       "      <td>Judo</td>\n",
       "      <td>Judo Men's Extra-Lightweight</td>\n",
       "      <td>NaN</td>\n",
       "    </tr>\n",
       "    <tr>\n",
       "      <th>2</th>\n",
       "      <td>3</td>\n",
       "      <td>Gunnar Nielsen Aaby</td>\n",
       "      <td>M</td>\n",
       "      <td>24.0</td>\n",
       "      <td>NaN</td>\n",
       "      <td>NaN</td>\n",
       "      <td>Denmark</td>\n",
       "      <td>DEN</td>\n",
       "      <td>1920 Summer</td>\n",
       "      <td>1920</td>\n",
       "      <td>Summer</td>\n",
       "      <td>Antwerpen</td>\n",
       "      <td>Football</td>\n",
       "      <td>Football Men's Football</td>\n",
       "      <td>NaN</td>\n",
       "    </tr>\n",
       "    <tr>\n",
       "      <th>3</th>\n",
       "      <td>4</td>\n",
       "      <td>Edgar Lindenau Aabye</td>\n",
       "      <td>M</td>\n",
       "      <td>34.0</td>\n",
       "      <td>NaN</td>\n",
       "      <td>NaN</td>\n",
       "      <td>Denmark/Sweden</td>\n",
       "      <td>DEN</td>\n",
       "      <td>1900 Summer</td>\n",
       "      <td>1900</td>\n",
       "      <td>Summer</td>\n",
       "      <td>Paris</td>\n",
       "      <td>Tug-Of-War</td>\n",
       "      <td>Tug-Of-War Men's Tug-Of-War</td>\n",
       "      <td>Gold</td>\n",
       "    </tr>\n",
       "    <tr>\n",
       "      <th>4</th>\n",
       "      <td>5</td>\n",
       "      <td>Christine Jacoba Aaftink</td>\n",
       "      <td>F</td>\n",
       "      <td>21.0</td>\n",
       "      <td>185.0</td>\n",
       "      <td>82.0</td>\n",
       "      <td>Netherlands</td>\n",
       "      <td>NED</td>\n",
       "      <td>1988 Winter</td>\n",
       "      <td>1988</td>\n",
       "      <td>Winter</td>\n",
       "      <td>Calgary</td>\n",
       "      <td>Speed Skating</td>\n",
       "      <td>Speed Skating Women's 500 metres</td>\n",
       "      <td>NaN</td>\n",
       "    </tr>\n",
       "  </tbody>\n",
       "</table>\n",
       "</div>"
      ],
      "text/plain": [
       "   ID                      Name Sex   Age  Height  Weight            Team  \\\n",
       "0   1                 A Dijiang   M  24.0   180.0    80.0           China   \n",
       "1   2                  A Lamusi   M  23.0   170.0    60.0           China   \n",
       "2   3       Gunnar Nielsen Aaby   M  24.0     NaN     NaN         Denmark   \n",
       "3   4      Edgar Lindenau Aabye   M  34.0     NaN     NaN  Denmark/Sweden   \n",
       "4   5  Christine Jacoba Aaftink   F  21.0   185.0    82.0     Netherlands   \n",
       "\n",
       "   NOC        Games  Year  Season       City          Sport  \\\n",
       "0  CHN  1992 Summer  1992  Summer  Barcelona     Basketball   \n",
       "1  CHN  2012 Summer  2012  Summer     London           Judo   \n",
       "2  DEN  1920 Summer  1920  Summer  Antwerpen       Football   \n",
       "3  DEN  1900 Summer  1900  Summer      Paris     Tug-Of-War   \n",
       "4  NED  1988 Winter  1988  Winter    Calgary  Speed Skating   \n",
       "\n",
       "                              Event Medal  \n",
       "0       Basketball Men's Basketball   NaN  \n",
       "1      Judo Men's Extra-Lightweight   NaN  \n",
       "2           Football Men's Football   NaN  \n",
       "3       Tug-Of-War Men's Tug-Of-War  Gold  \n",
       "4  Speed Skating Women's 500 metres   NaN  "
      ]
     },
     "metadata": {},
     "output_type": "display_data"
    }
   ],
   "source": [
    "display(df.head())\n"
   ]
  },
  {
   "cell_type": "code",
   "execution_count": 8,
   "id": "f685ec8f",
   "metadata": {
    "ExecuteTime": {
     "end_time": "2022-03-30T07:38:29.732890Z",
     "start_time": "2022-03-30T07:38:29.432848Z"
    }
   },
   "outputs": [
    {
     "name": "stdout",
     "output_type": "stream",
     "text": [
      "<class 'pandas.core.frame.DataFrame'>\n",
      "RangeIndex: 271116 entries, 0 to 271115\n",
      "Data columns (total 15 columns):\n",
      " #   Column  Non-Null Count   Dtype  \n",
      "---  ------  --------------   -----  \n",
      " 0   ID      271116 non-null  int64  \n",
      " 1   Name    271116 non-null  object \n",
      " 2   Sex     271116 non-null  object \n",
      " 3   Age     261642 non-null  float64\n",
      " 4   Height  210945 non-null  float64\n",
      " 5   Weight  208241 non-null  float64\n",
      " 6   Team    271116 non-null  object \n",
      " 7   NOC     271116 non-null  object \n",
      " 8   Games   271116 non-null  object \n",
      " 9   Year    271116 non-null  int64  \n",
      " 10  Season  271116 non-null  object \n",
      " 11  City    271116 non-null  object \n",
      " 12  Sport   271116 non-null  object \n",
      " 13  Event   271116 non-null  object \n",
      " 14  Medal   39783 non-null   object \n",
      "dtypes: float64(3), int64(2), object(10)\n",
      "memory usage: 31.0+ MB\n"
     ]
    }
   ],
   "source": [
    "df.info()"
   ]
  },
  {
   "cell_type": "code",
   "execution_count": 9,
   "id": "a4f7d213",
   "metadata": {
    "ExecuteTime": {
     "end_time": "2022-03-30T07:38:30.716972Z",
     "start_time": "2022-03-30T07:38:30.680924Z"
    }
   },
   "outputs": [
    {
     "data": {
      "text/plain": [
       "(54223, 15)"
      ]
     },
     "execution_count": 9,
     "metadata": {},
     "output_type": "execute_result"
    }
   ],
   "source": [
    "#preaparing a sample from the dataset\n",
    "\n",
    "df_sample = df.sample(frac=1/5, random_state=2021)\n",
    "\n",
    "df_sample.shape"
   ]
  },
  {
   "cell_type": "markdown",
   "id": "7557656a",
   "metadata": {},
   "source": [
    "$~$\n",
    "___\n",
    "####  Exercise 1\n",
    "\n",
    "$~$\n",
    "\n",
    "Grab a sports theme dataset you like and select an attribute from the dataset. Calculate the p-value and say if you reject the null hypothesis by taking a 5% alpha.\n",
    "\n",
    "$~$\n",
    "___"
   ]
  },
  {
   "cell_type": "markdown",
   "id": "f6c7aff4",
   "metadata": {},
   "source": [
    "$~$\n",
    "\n",
    "For this exercise we are going to consider the following situation: \n",
    "\n",
    "$~$\n",
    "\n",
    "First of all, we are going to check if the atribute to use complies with the assumption of normality. As we are going to work with the weight attribute: \n",
    "\n",
    "+ let's make some plots of the weight atribute (for both the population and the sample) to see if satisfy with the condition of normality.\n",
    "\n",
    "+ let's check whether the condition of normality is satisfied using some test\n",
    "\n",
    "+ *we will do the same with the sample that we have prepared before.*\n",
    "\n",
    "\n",
    "\n",
    "Once the verification is done, we'll choose what statistical test to use in order to do the following:\n",
    "\n",
    "$~$\n",
    "\n",
    "\n",
    " + test the difference between the population and the sample weight\n",
    "\n",
    "\n",
    "\n",
    "\n",
    "$~$\n",
    "\n",
    "*We want to see whether the mean weight of the athelets in this sample is significantly different from population mean*\n",
    "\n",
    "\n",
    "$~$"
   ]
  },
  {
   "cell_type": "markdown",
   "id": "ea938482",
   "metadata": {},
   "source": [
    "$~$\n",
    "\n",
    "+ Plotting the data:\n",
    "\n",
    "$~$"
   ]
  },
  {
   "cell_type": "code",
   "execution_count": 10,
   "id": "54432231",
   "metadata": {
    "ExecuteTime": {
     "end_time": "2022-03-30T07:38:36.617632Z",
     "start_time": "2022-03-30T07:38:35.078669Z"
    }
   },
   "outputs": [
    {
     "data": {
      "image/png": "[encoded data removed]",
      "text/plain": [
       "<Figure size 1080x720 with 4 Axes>"
      ]
     },
     "metadata": {},
     "output_type": "display_data"
    }
   ],
   "source": [
    "sns.set_context(\"talk\")\n",
    "plt.style.use('ggplot')\n",
    "\n",
    "#POP\n",
    "weight = df[df[\"Weight\"].notnull()][\"Weight\"]\n",
    "\n",
    "\n",
    "# values of mean (mu) and standar desviation (sigma) of the population\n",
    "mu, sigma = stats.norm.fit(weight)\n",
    "\n",
    "#  Theoretical values of the normal in the observed range\n",
    "x_hat = np.linspace(min(weight), max(weight), num=100)\n",
    "y_hat = stats.norm.pdf(x_hat, mu, sigma)\n",
    "\n",
    "\n",
    "#SAMPLE\n",
    "\n",
    "weight_sample = df_sample[df_sample[\"Weight\"].notnull()][\"Weight\"]\n",
    "\n",
    "# values of mean (mu) and standar desviation (sigma) of the population\n",
    "mu_sample, sigma_sample = stats.norm.fit(weight_sample)\n",
    "#  Theoretical values of the normal in the observed range\n",
    "x_hat = np.linspace(min(weight_sample), max(weight_sample), num=100)\n",
    "y_hat = stats.norm.pdf(x_hat, mu_sample, sigma_sample)\n",
    "\n",
    "\n",
    "\n",
    "\n",
    "# plots \n",
    "\n",
    "fig,axes = plt.subplots(2,2,figsize=(15,10))\n",
    "\n",
    "axes[0,0].plot(x_hat, y_hat, linewidth=2, label='normal')\n",
    "axes[0,0].hist(x=weight, density=True, bins=30, color=\"#3182bd\", alpha=0.5)\n",
    "axes[0,0].plot(weight, np.full_like(weight, -0.01), '|k', markeredgewidth=1)\n",
    "axes[0,0].set_title('Weight distribution (population)')\n",
    "axes[0,0].set_xlabel('weight')\n",
    "axes[0,0].set_ylabel('probability density')\n",
    "axes[0,0].legend()\n",
    "\n",
    "axes[1,0].plot(x_hat, y_hat, linewidth=2, label='normal')\n",
    "axes[1,0].hist(x=weight_sample, density=True, bins=30, color=\"#3182bd\", alpha=0.5)\n",
    "axes[1,0].plot(weight_sample, np.full_like(weight_sample, -0.01), '|k', markeredgewidth=1)\n",
    "axes[1,0].set_title('Weight distribution (sample)')\n",
    "axes[1,0].set_xlabel('weight')\n",
    "axes[1,0].set_ylabel('probability density')\n",
    "axes[1,0].legend()\n",
    "\n",
    "sm.qqplot(weight,\n",
    "    fit   = True,\n",
    "    line  = 'q',\n",
    "    alpha = 0.4,\n",
    "    lw    = 2,\n",
    "    ax    = axes[0,1]\n",
    "\n",
    ")\n",
    "axes[0,1].set_title('Q-Q plot weight (population)', fontsize = 10,\n",
    "           fontweight = \"bold\")\n",
    "axes[0,1].tick_params(labelsize = 7)\n",
    "\n",
    "\n",
    "sm.qqplot(weight_sample,\n",
    "    fit   = True,\n",
    "    line  = 'q',\n",
    "    \n",
    "    alpha = 0.4,\n",
    "    lw    = 2,\n",
    "    ax    = axes[1,1]\n",
    "\n",
    ")\n",
    "axes[1,1].set_title('Q-Q plot weight (sample)', fontsize = 10,\n",
    "         fontweight = \"bold\")\n",
    "axes[1,1].tick_params(labelsize = 7)\n",
    "\n",
    "\n",
    "plt.tight_layout()\n",
    "plt.show()"
   ]
  },
  {
   "cell_type": "markdown",
   "id": "3d316128",
   "metadata": {},
   "source": [
    "$~$\n",
    "\n",
    "In the plots of distribution seems that the weight (for the population and the sample) have a normal distribution. However, the Q-Q plot shows the opposite. in order to confirm the normality of the data let's use the [D'Agostino's K-squared](https://en.wikipedia.org/wiki/D%27Agostino%27s_K-squared_test) test to determine if our atribute weight have a normal distribution\n",
    "\n",
    "$~$\n",
    "\n",
    "*we use this test and not the Shapiro-Wilk test because the amount of data is greater than 5000. With N >5000, p-value may not be accurate*\n",
    "\n",
    "$~$\n"
   ]
  },
  {
   "cell_type": "code",
   "execution_count": 11,
   "id": "0a1708a4",
   "metadata": {
    "ExecuteTime": {
     "end_time": "2022-03-30T07:38:39.082418Z",
     "start_time": "2022-03-30T07:38:39.078854Z"
    }
   },
   "outputs": [
    {
     "name": "stdout",
     "output_type": "stream",
     "text": [
      "208241\n",
      "41746\n"
     ]
    }
   ],
   "source": [
    "#our N >5000\n",
    "\n",
    "print(len(weight))\n",
    "print(len(weight_sample))"
   ]
  },
  {
   "cell_type": "code",
   "execution_count": 12,
   "id": "e8f12512",
   "metadata": {
    "ExecuteTime": {
     "end_time": "2022-03-30T07:38:40.160801Z",
     "start_time": "2022-03-30T07:38:40.150532Z"
    }
   },
   "outputs": [
    {
     "name": "stdout",
     "output_type": "stream",
     "text": [
      "stat=27009.310, p=0.000\n",
      "The null hypothesis can be rejected\n"
     ]
    }
   ],
   "source": [
    "# D'Agostino's K-squared test Normality Test \n",
    "\n",
    "stat, p = stats.normaltest(weight)\n",
    "alpha= 0.05\n",
    "print('stat=%.3f, p=%.3f' % (stat, p))\n",
    "\n",
    "\n",
    "if p < alpha:  # null hypothesis: weight comes from a normal distribution\n",
    "\n",
    "    print(\"The null hypothesis can be rejected\")\n",
    "\n",
    "else:\n",
    "\n",
    "    print(\"The null hypothesis cannot be rejected\")\n",
    "\n",
    "\n"
   ]
  },
  {
   "cell_type": "code",
   "execution_count": 13,
   "id": "43ae28ea",
   "metadata": {
    "ExecuteTime": {
     "end_time": "2022-03-30T07:38:41.425271Z",
     "start_time": "2022-03-30T07:38:41.417922Z"
    }
   },
   "outputs": [
    {
     "name": "stdout",
     "output_type": "stream",
     "text": [
      "stat=5794.522, p=0.000\n",
      "The null hypothesis can be rejected\n"
     ]
    }
   ],
   "source": [
    "# D'Agostino's K-squared  Normality Test \n",
    "\n",
    "stat, p = stats.normaltest(weight_sample)\n",
    "alpha= 0.05\n",
    "\n",
    "print('stat=%.3f, p=%.3f' % (stat, p))\n",
    "\n",
    "\n",
    "if p < alpha:  # null hypothesis: weight_sample comes from a normal distribution\n",
    "\n",
    "    print(\"The null hypothesis can be rejected\")\n",
    "\n",
    "else:\n",
    "\n",
    "    print(\"The null hypothesis cannot be rejected\")\n"
   ]
  },
  {
   "cell_type": "markdown",
   "id": "a8e45a98",
   "metadata": {},
   "source": [
    "$~$\n",
    "\n",
    "Although the previous test confirms that the data does not have a normal distribution, we can also try with the Jarque-Bera test.\n",
    "\n",
    "$~$\n",
    "\n",
    "*This tests whether the sample has the skewness and kurtosis matching with a normal distribution, i.e., skewness=0 and kurtosis =3*"
   ]
  },
  {
   "cell_type": "code",
   "execution_count": 14,
   "id": "96745acc",
   "metadata": {
    "ExecuteTime": {
     "end_time": "2022-03-30T07:38:44.738137Z",
     "start_time": "2022-03-30T07:38:44.724062Z"
    }
   },
   "outputs": [
    {
     "name": "stdout",
     "output_type": "stream",
     "text": [
      "stat=57370.084, p=0.000\n",
      "The null hypothesis can be rejected\n"
     ]
    }
   ],
   "source": [
    "# Jarque vera Normality Test \n",
    "stat, p = stats.jarque_bera(weight)\n",
    "alpha= 0.05\n",
    "\n",
    "print('stat=%.3f, p=%.3f' % (stat, p))\n",
    "\n",
    "if p < alpha:  # null hypothesis: weight comes from a normal distribution\n",
    "\n",
    "    print(\"The null hypothesis can be rejected\")\n",
    "\n",
    "else:\n",
    "\n",
    "    print(\"The null hypothesis cannot be rejected\")"
   ]
  },
  {
   "cell_type": "code",
   "execution_count": 15,
   "id": "95f8b950",
   "metadata": {
    "ExecuteTime": {
     "end_time": "2022-03-30T07:38:46.275896Z",
     "start_time": "2022-03-30T07:38:46.269504Z"
    }
   },
   "outputs": [
    {
     "name": "stdout",
     "output_type": "stream",
     "text": [
      "stat=13334.426, p=0.000\n",
      "The null hypothesis can be rejected\n"
     ]
    }
   ],
   "source": [
    "# Jarque vera Normality Test \n",
    "stat, p = stats.jarque_bera(weight_sample)\n",
    "alpha= 0.05\n",
    "\n",
    "print('stat=%.3f, p=%.3f' % (stat, p))\n",
    "\n",
    "if p < alpha:  # null hypothesis: weight_sample comes from a normal distribution\n",
    "\n",
    "    print(\"The null hypothesis can be rejected\")\n",
    "\n",
    "else:\n",
    "\n",
    "    print(\"The null hypothesis cannot be rejected\")"
   ]
  },
  {
   "cell_type": "markdown",
   "id": "2a3c086d",
   "metadata": {},
   "source": [
    "$~$\n",
    "\n",
    "we can confirm that weight (both for the population and for the sample) does not have a normal distribution. For this reason, we will have to use non-parametric tests.\n",
    "\n",
    "$~$\n",
    "\n",
    "Now let's see if the difference between the sample and that of the population weight are statistically significant\n",
    "\n",
    "$~$\n"
   ]
  },
  {
   "cell_type": "code",
   "execution_count": 16,
   "id": "137b0030",
   "metadata": {
    "ExecuteTime": {
     "end_time": "2022-03-30T07:38:49.690101Z",
     "start_time": "2022-03-30T07:38:49.674252Z"
    }
   },
   "outputs": [
    {
     "name": "stdout",
     "output_type": "stream",
     "text": [
      "count    208241.000000\n",
      "mean         70.702393\n",
      "std          14.348020\n",
      "min          25.000000\n",
      "25%          60.000000\n",
      "50%          70.000000\n",
      "75%          79.000000\n",
      "max         214.000000\n",
      "Name: Weight, dtype: float64\n"
     ]
    }
   ],
   "source": [
    "# weight population\n",
    "\n",
    "print(df.Weight.describe())\n"
   ]
  },
  {
   "cell_type": "code",
   "execution_count": 17,
   "id": "51c76927",
   "metadata": {
    "ExecuteTime": {
     "end_time": "2022-03-30T07:38:50.608992Z",
     "start_time": "2022-03-30T07:38:50.601572Z"
    }
   },
   "outputs": [
    {
     "name": "stdout",
     "output_type": "stream",
     "text": [
      "count    41746.000000\n",
      "mean        70.587465\n",
      "std         14.342593\n",
      "min         25.000000\n",
      "25%         60.000000\n",
      "50%         70.000000\n",
      "75%         79.000000\n",
      "max        214.000000\n",
      "Name: Weight, dtype: float64\n"
     ]
    }
   ],
   "source": [
    "# weight  sample\n",
    "\n",
    "print(weight_sample.describe())"
   ]
  },
  {
   "cell_type": "markdown",
   "id": "2141cfb7",
   "metadata": {},
   "source": [
    "$~$\n",
    "\n",
    "we see that there is a difference (70.70 - 70.58) betwen the population and the sample weight\n",
    "\n",
    "$~$\n",
    "\n",
    "Having calculate the test it will allow us to verify the following:\n",
    "\n",
    "+ $H_0$ : $\\mu_A$ $=$ $\\mu_B$\n",
    "+ $H_1$ : $\\mu_A$ $\\neq$ $\\mu_B$\n",
    "+ where:  $\\mu_A$ $=$ weight_sample and  $\\mu_B$ = population  weight \n",
    "\n",
    "\n",
    "$~$\n"
   ]
  },
  {
   "cell_type": "code",
   "execution_count": 18,
   "id": "918c7c27",
   "metadata": {
    "ExecuteTime": {
     "end_time": "2022-03-30T07:38:52.380379Z",
     "start_time": "2022-03-30T07:38:52.346369Z"
    }
   },
   "outputs": [
    {
     "name": "stdout",
     "output_type": "stream",
     "text": [
      "RanksumsResult(statistic=-1.458469541390247, pvalue=0.14471116470087755)\n"
     ]
    }
   ],
   "source": [
    "# Perform the Wilcoxon rank-sum test\n",
    "wilc = stats.ranksums(weight_sample, weight)\n",
    "print(wilc)\n"
   ]
  },
  {
   "cell_type": "code",
   "execution_count": 19,
   "id": "2b156dcd",
   "metadata": {
    "ExecuteTime": {
     "end_time": "2022-03-30T07:38:53.632189Z",
     "start_time": "2022-03-30T07:38:53.629152Z"
    }
   },
   "outputs": [
    {
     "name": "stdout",
     "output_type": "stream",
     "text": [
      "No significant difference found\n"
     ]
    }
   ],
   "source": [
    "# Test significance\n",
    "alpha = 0.05\n",
    "if (wilc [1] < alpha):\n",
    "    print(\"value of Sample  differs from given value\")\n",
    "else:\n",
    "    print(\"No significant difference found\")\n"
   ]
  },
  {
   "cell_type": "markdown",
   "id": "8e72ac23",
   "metadata": {},
   "source": [
    "$~$\n",
    "\n",
    "Conclusion: We cannot reject null hypothesis with the significance level of 5%. With a p-value greater than 0.05, the difference between the population and the sample weight is not statistically significant. \n",
    "\n",
    "$~$\n"
   ]
  },
  {
   "cell_type": "markdown",
   "id": "8ea330b1",
   "metadata": {},
   "source": [
    "$~$\n",
    "\n",
    "Let's repeat the exercise, but with a more restrictive sample. For the same sample, let's filtering and using only the values from Spain.\n",
    "\n",
    "$~$"
   ]
  },
  {
   "cell_type": "code",
   "execution_count": 20,
   "id": "c0222fe7",
   "metadata": {
    "ExecuteTime": {
     "end_time": "2022-03-30T07:38:58.446411Z",
     "start_time": "2022-03-30T07:38:58.437637Z"
    }
   },
   "outputs": [],
   "source": [
    "df_sample_spain = df_sample[(df_sample[\"Team\"] ==\"Spain\") & (df_sample[\"Weight\"].notnull())]\n",
    "\n"
   ]
  },
  {
   "cell_type": "markdown",
   "id": "fee943c4",
   "metadata": {},
   "source": [
    "$~$\n",
    "\n",
    "let's make some plot to check if there are normality distribution in the new sample:\n",
    "\n",
    "$~$"
   ]
  },
  {
   "cell_type": "code",
   "execution_count": 21,
   "id": "649b003b",
   "metadata": {
    "ExecuteTime": {
     "end_time": "2022-03-30T07:39:00.670599Z",
     "start_time": "2022-03-30T07:39:00.169726Z"
    }
   },
   "outputs": [
    {
     "data": {
      "image/png": "[encoded data removed]",
      "text/plain": [
       "<Figure size 1080x720 with 2 Axes>"
      ]
     },
     "metadata": {},
     "output_type": "display_data"
    }
   ],
   "source": [
    "#sample spain\n",
    "\n",
    "weight_spain = df_sample_spain[df_sample_spain[\"Weight\"].notnull()][\"Weight\"]\n",
    "\n",
    "# values of mean (mu) and standar desviation (sigma) of the sample(spain)\n",
    "mu_spain, sigma_spain = stats.norm.fit(weight_spain)\n",
    "\n",
    "#  Theoretical values of the normal in the observed range\n",
    "x_hat = np.linspace(min(weight_spain), max(weight_spain), num=100)\n",
    "y_hat = stats.norm.pdf(x_hat, mu_spain, sigma_spain)\n",
    "\n",
    "# plots \n",
    "fig,axes = plt.subplots(1,2,figsize=(15,10))\n",
    "\n",
    "axes[0].plot(x_hat, y_hat, linewidth=2, label='normal')\n",
    "axes[0].hist(x=weight, density=True, bins=30, color=\"#3182bd\", alpha=0.5)\n",
    "axes[0].plot(weight, np.full_like(weight, -0.01), '|k', markeredgewidth=1)\n",
    "axes[0].set_title('Weight distribution (sample Spain)')\n",
    "axes[0].set_xlabel('weight')\n",
    "axes[0].set_ylabel('probability density')\n",
    "axes[0].legend()\n",
    "\n",
    "sm.qqplot(weight_spain,\n",
    "    fit   = True,\n",
    "    line  = 'q',\n",
    "    alpha = 0.4,\n",
    "    lw    = 2,\n",
    "    ax    = axes[1]\n",
    "\n",
    ")\n",
    "axes[1].set_title('Q-Q plot weight (sample Spain)', fontsize = 10,\n",
    "    fontweight = \"bold\")\n",
    "axes[1].tick_params(labelsize = 7)\n"
   ]
  },
  {
   "cell_type": "markdown",
   "id": "77e12831",
   "metadata": {},
   "source": [
    "$~$\n",
    "\n",
    "the plots show that there is no normal distribution in this sample.\n",
    "\n",
    "$~$\n",
    "\n",
    "As len(weight_spain) < 5000 we can use the shapiro test to confirm it\n",
    "\n"
   ]
  },
  {
   "cell_type": "code",
   "execution_count": 22,
   "id": "d47260c0",
   "metadata": {
    "ExecuteTime": {
     "end_time": "2022-03-30T07:39:09.778019Z",
     "start_time": "2022-03-30T07:39:09.772431Z"
    }
   },
   "outputs": [
    {
     "name": "stdout",
     "output_type": "stream",
     "text": [
      "stat=13334.426, p=0.000\n",
      "The null hypothesis can be rejected\n"
     ]
    }
   ],
   "source": [
    "shapiro_test = stats.shapiro(weight_spain)\n",
    "shapiro_test\n",
    "\n",
    "alpha= 0.05\n",
    "\n",
    "print('stat=%.3f, p=%.3f' % (stat, p))\n",
    "\n",
    "if p < alpha:  # null hypothesis: weight_spain comes from a normal distribution\n",
    "\n",
    "    print(\"The null hypothesis can be rejected\")\n",
    "\n",
    "else:\n",
    "\n",
    "    print(\"The null hypothesis cannot be rejected\")"
   ]
  },
  {
   "cell_type": "markdown",
   "id": "d5c95470",
   "metadata": {},
   "source": [
    "$~$\n",
    "\n",
    "Since the assumption of normality is not satisfied, we will use a non-parametric test to see if the difference between the new sample and that of the population \n",
    "weight are statistically significant\n",
    "\n",
    "$~$\n"
   ]
  },
  {
   "cell_type": "code",
   "execution_count": 23,
   "id": "5395d7ca",
   "metadata": {
    "ExecuteTime": {
     "end_time": "2022-03-30T07:39:14.567637Z",
     "start_time": "2022-03-30T07:39:14.559632Z"
    }
   },
   "outputs": [
    {
     "data": {
      "text/plain": [
       "count    894.000000\n",
       "mean      69.978747\n",
       "std       15.462507\n",
       "min       30.000000\n",
       "25%       61.000000\n",
       "50%       70.000000\n",
       "75%       78.000000\n",
       "max      198.000000\n",
       "Name: Weight, dtype: float64"
      ]
     },
     "execution_count": 23,
     "metadata": {},
     "output_type": "execute_result"
    }
   ],
   "source": [
    "df_sample_spain.Weight.describe()"
   ]
  },
  {
   "cell_type": "markdown",
   "id": "45053cf7",
   "metadata": {},
   "source": [
    "$~$\n",
    "\n",
    "As we can see that there is a bigger difference between the mean of the spanish athletes weight and the population mean (69.97 - 70.70). \n",
    "\n",
    "Now, we are going to verify if the difference that we observe is statistically significant. For this, we consider the following:\n",
    "\n",
    "+ $H_0$ : $\\mu_A$ $=$ $\\mu_B$\n",
    "+ $H_1$ : $\\mu_A$ $\\neq$ $\\mu_B$\n",
    "+ where:  $\\mu_A$ $=$ weight_spain and  $\\mu_B$ = population  weight \n",
    "\n",
    "\n",
    "$~$\n"
   ]
  },
  {
   "cell_type": "code",
   "execution_count": 24,
   "id": "566a2cbd",
   "metadata": {
    "ExecuteTime": {
     "end_time": "2022-03-30T07:39:16.416433Z",
     "start_time": "2022-03-30T07:39:16.396262Z"
    }
   },
   "outputs": [
    {
     "name": "stdout",
     "output_type": "stream",
     "text": [
      "RanksumsResult(statistic=0.6697401163895398, pvalue=0.5030234737295822)\n"
     ]
    }
   ],
   "source": [
    "# Perform the Wilcoxon rank-sum test\n",
    "wilc = stats.ranksums(weight, weight_spain)\n",
    "print(wilc)\n"
   ]
  },
  {
   "cell_type": "code",
   "execution_count": 25,
   "id": "400a1d56",
   "metadata": {
    "ExecuteTime": {
     "end_time": "2022-03-30T07:39:17.317365Z",
     "start_time": "2022-03-30T07:39:17.313737Z"
    }
   },
   "outputs": [
    {
     "name": "stdout",
     "output_type": "stream",
     "text": [
      "No significant difference found\n"
     ]
    }
   ],
   "source": [
    "# Test significance\n",
    "alpha = 0.05\n",
    "if (wilc[1] < alpha):\n",
    "    print(\"mean value of Sample  differs from given value\")\n",
    "else:\n",
    "    print(\"No significant difference found\")\n"
   ]
  },
  {
   "cell_type": "markdown",
   "id": "88a6709a",
   "metadata": {},
   "source": [
    "$~$\n",
    "\n",
    "Conclusion: We can reject null hypothesis with the significance level of 5% \n",
    "\n",
    "$~$\n"
   ]
  },
  {
   "cell_type": "markdown",
   "id": "07415134",
   "metadata": {},
   "source": [
    "____\n",
    "$~$\n",
    "\n",
    "Let's try a different test. Suppose we want to see whether or not there is a bias on the ratio of male to female athletes significantly depart from 50-50. To test this we have to perform a [Chi-square test]()\n",
    "\n",
    "$~$"
   ]
  },
  {
   "cell_type": "code",
   "execution_count": 26,
   "id": "349bf02e",
   "metadata": {
    "ExecuteTime": {
     "end_time": "2022-03-30T07:39:20.266763Z",
     "start_time": "2022-03-30T07:39:20.248941Z"
    }
   },
   "outputs": [
    {
     "data": {
      "text/plain": [
       "M    196594\n",
       "F     74522\n",
       "Name: Sex, dtype: int64"
      ]
     },
     "execution_count": 26,
     "metadata": {},
     "output_type": "execute_result"
    }
   ],
   "source": [
    "sexratio = df[\"Sex\"].value_counts()\n",
    "sexratio"
   ]
  },
  {
   "cell_type": "code",
   "execution_count": 27,
   "id": "48c96987",
   "metadata": {
    "ExecuteTime": {
     "end_time": "2022-03-30T07:39:21.019376Z",
     "start_time": "2022-03-30T07:39:21.016192Z"
    }
   },
   "outputs": [
    {
     "name": "stdout",
     "output_type": "stream",
     "text": [
      "Power_divergenceResult(statistic=54963.82797031529, pvalue=0.0)\n"
     ]
    }
   ],
   "source": [
    "# Perform Chi-square test\n",
    "chi= stats.chisquare(sexratio)\n",
    "print(chi)"
   ]
  },
  {
   "cell_type": "code",
   "execution_count": 28,
   "id": "1c8973bf",
   "metadata": {
    "ExecuteTime": {
     "end_time": "2022-03-30T07:39:23.413604Z",
     "start_time": "2022-03-30T07:39:23.409968Z"
    }
   },
   "outputs": [
    {
     "name": "stdout",
     "output_type": "stream",
     "text": [
      "Difference between sexes is statistically significant\n"
     ]
    }
   ],
   "source": [
    "# Test significance\n",
    "alpha= 0.05\n",
    "if chi[1] < alpha:\n",
    "    print(\"Difference between sexes is statistically significant\")\n",
    "else:\n",
    "    print(\"No significant difference between sexes found\")"
   ]
  },
  {
   "cell_type": "markdown",
   "id": "18d82cc4",
   "metadata": {},
   "source": [
    "**the Chi-square test shows that there are significantly more men than women**"
   ]
  },
  {
   "cell_type": "markdown",
   "id": "214112c9",
   "metadata": {},
   "source": [
    "$~$\n",
    "___\n",
    "####  Exercise 2\n",
    "\n",
    "$~$\n",
    "\n",
    "Continue with the sports theme dataset you like and select two other attributes from the dataset. Calculate the p-values and say if they reject the null hypothesis by taking a 5% alpha.\n",
    "\n",
    "$~$\n",
    "___"
   ]
  },
  {
   "cell_type": "markdown",
   "id": "85830886",
   "metadata": {},
   "source": [
    "$~$\n",
    "\n",
    "for this exercise, we are focusing on just one event, the women's 100 meter running race. let's look at how the heights of competitors have changed over time. A Pearson correlation test allows us to determine whether a linear relationship exists between two variables (*year* and *height*) \n",
    "\n",
    "$~$\n",
    "\n",
    "+ First, let's make some plots, to see  how the runners' weights have changed over time.\n",
    "\n",
    "$~$"
   ]
  },
  {
   "cell_type": "code",
   "execution_count": 29,
   "id": "220dba2d",
   "metadata": {
    "ExecuteTime": {
     "end_time": "2022-03-30T07:39:26.359958Z",
     "start_time": "2022-03-30T07:39:26.324908Z"
    }
   },
   "outputs": [
    {
     "data": {
      "text/html": [
       "<div>\n",
       "<style scoped>\n",
       "    .dataframe tbody tr th:only-of-type {\n",
       "        vertical-align: middle;\n",
       "    }\n",
       "\n",
       "    .dataframe tbody tr th {\n",
       "        vertical-align: top;\n",
       "    }\n",
       "\n",
       "    .dataframe thead th {\n",
       "        text-align: right;\n",
       "    }\n",
       "</style>\n",
       "<table border=\"1\" class=\"dataframe\">\n",
       "  <thead>\n",
       "    <tr style=\"text-align: right;\">\n",
       "      <th></th>\n",
       "      <th>ID</th>\n",
       "      <th>Name</th>\n",
       "      <th>Sex</th>\n",
       "      <th>Age</th>\n",
       "      <th>Height</th>\n",
       "      <th>Weight</th>\n",
       "      <th>Team</th>\n",
       "      <th>NOC</th>\n",
       "      <th>Games</th>\n",
       "      <th>Year</th>\n",
       "      <th>Season</th>\n",
       "      <th>City</th>\n",
       "      <th>Sport</th>\n",
       "      <th>Event</th>\n",
       "      <th>Medal</th>\n",
       "    </tr>\n",
       "  </thead>\n",
       "  <tbody>\n",
       "    <tr>\n",
       "      <th>26</th>\n",
       "      <td>8</td>\n",
       "      <td>Cornelia \"Cor\" Aalten (-Strannood)</td>\n",
       "      <td>F</td>\n",
       "      <td>18.0</td>\n",
       "      <td>168.0</td>\n",
       "      <td>NaN</td>\n",
       "      <td>Netherlands</td>\n",
       "      <td>NED</td>\n",
       "      <td>1932 Summer</td>\n",
       "      <td>1932</td>\n",
       "      <td>Summer</td>\n",
       "      <td>Los Angeles</td>\n",
       "      <td>Athletics</td>\n",
       "      <td>Athletics Women's 100 metres</td>\n",
       "      <td>NaN</td>\n",
       "    </tr>\n",
       "    <tr>\n",
       "      <th>526</th>\n",
       "      <td>299</td>\n",
       "      <td>Dana Abdul Razak (Hussain-)</td>\n",
       "      <td>F</td>\n",
       "      <td>22.0</td>\n",
       "      <td>163.0</td>\n",
       "      <td>56.0</td>\n",
       "      <td>Iraq</td>\n",
       "      <td>IRQ</td>\n",
       "      <td>2008 Summer</td>\n",
       "      <td>2008</td>\n",
       "      <td>Summer</td>\n",
       "      <td>Beijing</td>\n",
       "      <td>Athletics</td>\n",
       "      <td>Athletics Women's 100 metres</td>\n",
       "      <td>NaN</td>\n",
       "    </tr>\n",
       "    <tr>\n",
       "      <th>527</th>\n",
       "      <td>299</td>\n",
       "      <td>Dana Abdul Razak (Hussain-)</td>\n",
       "      <td>F</td>\n",
       "      <td>26.0</td>\n",
       "      <td>163.0</td>\n",
       "      <td>56.0</td>\n",
       "      <td>Iraq</td>\n",
       "      <td>IRQ</td>\n",
       "      <td>2012 Summer</td>\n",
       "      <td>2012</td>\n",
       "      <td>Summer</td>\n",
       "      <td>London</td>\n",
       "      <td>Athletics</td>\n",
       "      <td>Athletics Women's 100 metres</td>\n",
       "      <td>NaN</td>\n",
       "    </tr>\n",
       "    <tr>\n",
       "      <th>1081</th>\n",
       "      <td>609</td>\n",
       "      <td>Fartun Abukar Omar</td>\n",
       "      <td>F</td>\n",
       "      <td>18.0</td>\n",
       "      <td>170.0</td>\n",
       "      <td>58.0</td>\n",
       "      <td>Somalia</td>\n",
       "      <td>SOM</td>\n",
       "      <td>2004 Summer</td>\n",
       "      <td>2004</td>\n",
       "      <td>Summer</td>\n",
       "      <td>Athina</td>\n",
       "      <td>Athletics</td>\n",
       "      <td>Athletics Women's 100 metres</td>\n",
       "      <td>NaN</td>\n",
       "    </tr>\n",
       "    <tr>\n",
       "      <th>1096</th>\n",
       "      <td>613</td>\n",
       "      <td>Kariman Abuljadayel</td>\n",
       "      <td>F</td>\n",
       "      <td>22.0</td>\n",
       "      <td>180.0</td>\n",
       "      <td>70.0</td>\n",
       "      <td>Saudi Arabia</td>\n",
       "      <td>KSA</td>\n",
       "      <td>2016 Summer</td>\n",
       "      <td>2016</td>\n",
       "      <td>Summer</td>\n",
       "      <td>Rio de Janeiro</td>\n",
       "      <td>Athletics</td>\n",
       "      <td>Athletics Women's 100 metres</td>\n",
       "      <td>NaN</td>\n",
       "    </tr>\n",
       "    <tr>\n",
       "      <th>...</th>\n",
       "      <td>...</td>\n",
       "      <td>...</td>\n",
       "      <td>...</td>\n",
       "      <td>...</td>\n",
       "      <td>...</td>\n",
       "      <td>...</td>\n",
       "      <td>...</td>\n",
       "      <td>...</td>\n",
       "      <td>...</td>\n",
       "      <td>...</td>\n",
       "      <td>...</td>\n",
       "      <td>...</td>\n",
       "      <td>...</td>\n",
       "      <td>...</td>\n",
       "      <td>...</td>\n",
       "    </tr>\n",
       "    <tr>\n",
       "      <th>269182</th>\n",
       "      <td>134695</td>\n",
       "      <td>Lyudmila Ilyinichna Zharkova-Maslakova</td>\n",
       "      <td>F</td>\n",
       "      <td>20.0</td>\n",
       "      <td>175.0</td>\n",
       "      <td>59.0</td>\n",
       "      <td>Soviet Union</td>\n",
       "      <td>URS</td>\n",
       "      <td>1972 Summer</td>\n",
       "      <td>1972</td>\n",
       "      <td>Summer</td>\n",
       "      <td>Munich</td>\n",
       "      <td>Athletics</td>\n",
       "      <td>Athletics Women's 100 metres</td>\n",
       "      <td>NaN</td>\n",
       "    </tr>\n",
       "    <tr>\n",
       "      <th>269184</th>\n",
       "      <td>134695</td>\n",
       "      <td>Lyudmila Ilyinichna Zharkova-Maslakova</td>\n",
       "      <td>F</td>\n",
       "      <td>24.0</td>\n",
       "      <td>175.0</td>\n",
       "      <td>59.0</td>\n",
       "      <td>Soviet Union</td>\n",
       "      <td>URS</td>\n",
       "      <td>1976 Summer</td>\n",
       "      <td>1976</td>\n",
       "      <td>Summer</td>\n",
       "      <td>Montreal</td>\n",
       "      <td>Athletics</td>\n",
       "      <td>Athletics Women's 100 metres</td>\n",
       "      <td>NaN</td>\n",
       "    </tr>\n",
       "    <tr>\n",
       "      <th>269320</th>\n",
       "      <td>134764</td>\n",
       "      <td>Marina Serafimovna Zhirova (Titova-)</td>\n",
       "      <td>F</td>\n",
       "      <td>25.0</td>\n",
       "      <td>170.0</td>\n",
       "      <td>58.0</td>\n",
       "      <td>Soviet Union</td>\n",
       "      <td>URS</td>\n",
       "      <td>1988 Summer</td>\n",
       "      <td>1988</td>\n",
       "      <td>Summer</td>\n",
       "      <td>Seoul</td>\n",
       "      <td>Athletics</td>\n",
       "      <td>Athletics Women's 100 metres</td>\n",
       "      <td>NaN</td>\n",
       "    </tr>\n",
       "    <tr>\n",
       "      <th>270763</th>\n",
       "      <td>135410</td>\n",
       "      <td>Zaidatul Husniah Zulkifli</td>\n",
       "      <td>F</td>\n",
       "      <td>22.0</td>\n",
       "      <td>156.0</td>\n",
       "      <td>40.0</td>\n",
       "      <td>Malaysia</td>\n",
       "      <td>MAS</td>\n",
       "      <td>2016 Summer</td>\n",
       "      <td>2016</td>\n",
       "      <td>Summer</td>\n",
       "      <td>Rio de Janeiro</td>\n",
       "      <td>Athletics</td>\n",
       "      <td>Athletics Women's 100 metres</td>\n",
       "      <td>NaN</td>\n",
       "    </tr>\n",
       "    <tr>\n",
       "      <th>271053</th>\n",
       "      <td>135547</td>\n",
       "      <td>Viktoriya Viktorovna Zyabkina</td>\n",
       "      <td>F</td>\n",
       "      <td>23.0</td>\n",
       "      <td>174.0</td>\n",
       "      <td>62.0</td>\n",
       "      <td>Kazakhstan</td>\n",
       "      <td>KAZ</td>\n",
       "      <td>2016 Summer</td>\n",
       "      <td>2016</td>\n",
       "      <td>Summer</td>\n",
       "      <td>Rio de Janeiro</td>\n",
       "      <td>Athletics</td>\n",
       "      <td>Athletics Women's 100 metres</td>\n",
       "      <td>NaN</td>\n",
       "    </tr>\n",
       "  </tbody>\n",
       "</table>\n",
       "<p>930 rows × 15 columns</p>\n",
       "</div>"
      ],
      "text/plain": [
       "            ID                                    Name Sex   Age  Height  \\\n",
       "26           8      Cornelia \"Cor\" Aalten (-Strannood)   F  18.0   168.0   \n",
       "526        299             Dana Abdul Razak (Hussain-)   F  22.0   163.0   \n",
       "527        299             Dana Abdul Razak (Hussain-)   F  26.0   163.0   \n",
       "1081       609                      Fartun Abukar Omar   F  18.0   170.0   \n",
       "1096       613                     Kariman Abuljadayel   F  22.0   180.0   \n",
       "...        ...                                     ...  ..   ...     ...   \n",
       "269182  134695  Lyudmila Ilyinichna Zharkova-Maslakova   F  20.0   175.0   \n",
       "269184  134695  Lyudmila Ilyinichna Zharkova-Maslakova   F  24.0   175.0   \n",
       "269320  134764    Marina Serafimovna Zhirova (Titova-)   F  25.0   170.0   \n",
       "270763  135410               Zaidatul Husniah Zulkifli   F  22.0   156.0   \n",
       "271053  135547           Viktoriya Viktorovna Zyabkina   F  23.0   174.0   \n",
       "\n",
       "        Weight          Team  NOC        Games  Year  Season            City  \\\n",
       "26         NaN   Netherlands  NED  1932 Summer  1932  Summer     Los Angeles   \n",
       "526       56.0          Iraq  IRQ  2008 Summer  2008  Summer         Beijing   \n",
       "527       56.0          Iraq  IRQ  2012 Summer  2012  Summer          London   \n",
       "1081      58.0       Somalia  SOM  2004 Summer  2004  Summer          Athina   \n",
       "1096      70.0  Saudi Arabia  KSA  2016 Summer  2016  Summer  Rio de Janeiro   \n",
       "...        ...           ...  ...          ...   ...     ...             ...   \n",
       "269182    59.0  Soviet Union  URS  1972 Summer  1972  Summer          Munich   \n",
       "269184    59.0  Soviet Union  URS  1976 Summer  1976  Summer        Montreal   \n",
       "269320    58.0  Soviet Union  URS  1988 Summer  1988  Summer           Seoul   \n",
       "270763    40.0      Malaysia  MAS  2016 Summer  2016  Summer  Rio de Janeiro   \n",
       "271053    62.0    Kazakhstan  KAZ  2016 Summer  2016  Summer  Rio de Janeiro   \n",
       "\n",
       "            Sport                         Event Medal  \n",
       "26      Athletics  Athletics Women's 100 metres   NaN  \n",
       "526     Athletics  Athletics Women's 100 metres   NaN  \n",
       "527     Athletics  Athletics Women's 100 metres   NaN  \n",
       "1081    Athletics  Athletics Women's 100 metres   NaN  \n",
       "1096    Athletics  Athletics Women's 100 metres   NaN  \n",
       "...           ...                           ...   ...  \n",
       "269182  Athletics  Athletics Women's 100 metres   NaN  \n",
       "269184  Athletics  Athletics Women's 100 metres   NaN  \n",
       "269320  Athletics  Athletics Women's 100 metres   NaN  \n",
       "270763  Athletics  Athletics Women's 100 metres   NaN  \n",
       "271053  Athletics  Athletics Women's 100 metres   NaN  \n",
       "\n",
       "[930 rows x 15 columns]"
      ]
     },
     "execution_count": 29,
     "metadata": {},
     "output_type": "execute_result"
    }
   ],
   "source": [
    "#filter our dataset\n",
    "women_100 = df[(df[\"Event\"] == \"Athletics Women's 100 metres\") & df[\"Height\"].notnull()]\n",
    "women_100"
   ]
  },
  {
   "cell_type": "code",
   "execution_count": 30,
   "id": "e48d613e",
   "metadata": {
    "ExecuteTime": {
     "end_time": "2022-03-30T07:39:27.819800Z",
     "start_time": "2022-03-30T07:39:27.816372Z"
    }
   },
   "outputs": [],
   "source": [
    "#define our variables\n",
    "w_height = women_100[\"Height\"]\n",
    "w_year =  women_100[\"Year\"]"
   ]
  },
  {
   "cell_type": "code",
   "execution_count": 31,
   "id": "cecc0f5c",
   "metadata": {
    "ExecuteTime": {
     "end_time": "2022-03-30T07:39:28.796391Z",
     "start_time": "2022-03-30T07:39:28.495539Z"
    }
   },
   "outputs": [
    {
     "data": {
      "image/png": "[encoded data removed]",
      "text/plain": [
       "<Figure size 1080x720 with 1 Axes>"
      ]
     },
     "metadata": {},
     "output_type": "display_data"
    }
   ],
   "source": [
    "sns.set_context(\"talk\")\n",
    "\n",
    "#plot \n",
    "fig,axes = plt.subplots(1,1, figsize=(15,10))\n",
    "\n",
    "#plot shows the regression line\n",
    "\n",
    "sns.regplot(x=w_year, y=w_height,data=women_100,ax=axes,\n",
    "            \n",
    "            scatter_kws={'alpha':0.3})\n",
    "\n",
    "axes.set_title(\"Scatter plot: relationship between \\\n",
    "metres height and year\",fontsize=8)\n",
    "axes.set_xlabel(\"years\")\n",
    "axes.set_ylabel(\"Height (in cm)\")\n",
    "axes.spines['top'].set_visible(False)\n",
    "axes.spines['right'].set_visible(False)\n"
   ]
  },
  {
   "cell_type": "markdown",
   "id": "53a14628",
   "metadata": {},
   "source": [
    "$~$\n",
    "\n",
    "**From what the plot shows, it seems that there is no relationship between the variables.**\n",
    "\n",
    "$~$\n",
    "\n",
    "Despite this, let's calculate Pearson's correlation coefficient and see whether or not there is correlation between the variables\n",
    "\n",
    "$~$"
   ]
  },
  {
   "cell_type": "code",
   "execution_count": 32,
   "id": "308e9988",
   "metadata": {
    "ExecuteTime": {
     "end_time": "2022-03-30T07:39:31.542673Z",
     "start_time": "2022-03-30T07:39:31.537977Z"
    }
   },
   "outputs": [
    {
     "name": "stdout",
     "output_type": "stream",
     "text": [
      "(-0.018466713687361733, 0.5738097081189003)\n"
     ]
    }
   ],
   "source": [
    "pearson = stats.pearsonr(w_height,w_year)\n",
    "print(pearson)"
   ]
  },
  {
   "cell_type": "code",
   "execution_count": 33,
   "id": "c8c320e9",
   "metadata": {
    "ExecuteTime": {
     "end_time": "2022-03-30T07:39:33.053734Z",
     "start_time": "2022-03-30T07:39:33.050014Z"
    }
   },
   "outputs": [
    {
     "name": "stdout",
     "output_type": "stream",
     "text": [
      "No significant correlation found\n"
     ]
    }
   ],
   "source": [
    "# Test if p-value is bigger or smaller than alpha\n",
    "alpha = 0.05\n",
    "if pearson[1] < alpha:\n",
    "    print(\"Weights and year are significantly correlated\")\n",
    "else:\n",
    "    print(\"No significant correlation found\")"
   ]
  },
  {
   "cell_type": "markdown",
   "id": "5f7e66fe",
   "metadata": {},
   "source": [
    "$~$\n",
    "\n",
    "Let's repeat the exercise, but now let's see if there is a relationship between the weight and the height of the athletes:\n",
    "\n",
    "\n",
    "$~$"
   ]
  },
  {
   "cell_type": "code",
   "execution_count": 34,
   "id": "37b1d9ea",
   "metadata": {
    "ExecuteTime": {
     "end_time": "2022-03-30T07:39:35.100105Z",
     "start_time": "2022-03-30T07:39:35.068369Z"
    }
   },
   "outputs": [
    {
     "data": {
      "text/html": [
       "<div>\n",
       "<style scoped>\n",
       "    .dataframe tbody tr th:only-of-type {\n",
       "        vertical-align: middle;\n",
       "    }\n",
       "\n",
       "    .dataframe tbody tr th {\n",
       "        vertical-align: top;\n",
       "    }\n",
       "\n",
       "    .dataframe thead th {\n",
       "        text-align: right;\n",
       "    }\n",
       "</style>\n",
       "<table border=\"1\" class=\"dataframe\">\n",
       "  <thead>\n",
       "    <tr style=\"text-align: right;\">\n",
       "      <th></th>\n",
       "      <th>ID</th>\n",
       "      <th>Name</th>\n",
       "      <th>Sex</th>\n",
       "      <th>Age</th>\n",
       "      <th>Height</th>\n",
       "      <th>Weight</th>\n",
       "      <th>Team</th>\n",
       "      <th>NOC</th>\n",
       "      <th>Games</th>\n",
       "      <th>Year</th>\n",
       "      <th>Season</th>\n",
       "      <th>City</th>\n",
       "      <th>Sport</th>\n",
       "      <th>Event</th>\n",
       "      <th>Medal</th>\n",
       "    </tr>\n",
       "  </thead>\n",
       "  <tbody>\n",
       "    <tr>\n",
       "      <th>526</th>\n",
       "      <td>299</td>\n",
       "      <td>Dana Abdul Razak (Hussain-)</td>\n",
       "      <td>F</td>\n",
       "      <td>22.0</td>\n",
       "      <td>163.0</td>\n",
       "      <td>56.0</td>\n",
       "      <td>Iraq</td>\n",
       "      <td>IRQ</td>\n",
       "      <td>2008 Summer</td>\n",
       "      <td>2008</td>\n",
       "      <td>Summer</td>\n",
       "      <td>Beijing</td>\n",
       "      <td>Athletics</td>\n",
       "      <td>Athletics Women's 100 metres</td>\n",
       "      <td>NaN</td>\n",
       "    </tr>\n",
       "    <tr>\n",
       "      <th>527</th>\n",
       "      <td>299</td>\n",
       "      <td>Dana Abdul Razak (Hussain-)</td>\n",
       "      <td>F</td>\n",
       "      <td>26.0</td>\n",
       "      <td>163.0</td>\n",
       "      <td>56.0</td>\n",
       "      <td>Iraq</td>\n",
       "      <td>IRQ</td>\n",
       "      <td>2012 Summer</td>\n",
       "      <td>2012</td>\n",
       "      <td>Summer</td>\n",
       "      <td>London</td>\n",
       "      <td>Athletics</td>\n",
       "      <td>Athletics Women's 100 metres</td>\n",
       "      <td>NaN</td>\n",
       "    </tr>\n",
       "    <tr>\n",
       "      <th>1081</th>\n",
       "      <td>609</td>\n",
       "      <td>Fartun Abukar Omar</td>\n",
       "      <td>F</td>\n",
       "      <td>18.0</td>\n",
       "      <td>170.0</td>\n",
       "      <td>58.0</td>\n",
       "      <td>Somalia</td>\n",
       "      <td>SOM</td>\n",
       "      <td>2004 Summer</td>\n",
       "      <td>2004</td>\n",
       "      <td>Summer</td>\n",
       "      <td>Athina</td>\n",
       "      <td>Athletics</td>\n",
       "      <td>Athletics Women's 100 metres</td>\n",
       "      <td>NaN</td>\n",
       "    </tr>\n",
       "    <tr>\n",
       "      <th>1096</th>\n",
       "      <td>613</td>\n",
       "      <td>Kariman Abuljadayel</td>\n",
       "      <td>F</td>\n",
       "      <td>22.0</td>\n",
       "      <td>180.0</td>\n",
       "      <td>70.0</td>\n",
       "      <td>Saudi Arabia</td>\n",
       "      <td>KSA</td>\n",
       "      <td>2016 Summer</td>\n",
       "      <td>2016</td>\n",
       "      <td>Summer</td>\n",
       "      <td>Rio de Janeiro</td>\n",
       "      <td>Athletics</td>\n",
       "      <td>Athletics Women's 100 metres</td>\n",
       "      <td>NaN</td>\n",
       "    </tr>\n",
       "    <tr>\n",
       "      <th>1159</th>\n",
       "      <td>644</td>\n",
       "      <td>Claudia Acerenza Marez</td>\n",
       "      <td>F</td>\n",
       "      <td>22.0</td>\n",
       "      <td>160.0</td>\n",
       "      <td>55.0</td>\n",
       "      <td>Uruguay</td>\n",
       "      <td>URU</td>\n",
       "      <td>1988 Summer</td>\n",
       "      <td>1988</td>\n",
       "      <td>Summer</td>\n",
       "      <td>Seoul</td>\n",
       "      <td>Athletics</td>\n",
       "      <td>Athletics Women's 100 metres</td>\n",
       "      <td>NaN</td>\n",
       "    </tr>\n",
       "    <tr>\n",
       "      <th>...</th>\n",
       "      <td>...</td>\n",
       "      <td>...</td>\n",
       "      <td>...</td>\n",
       "      <td>...</td>\n",
       "      <td>...</td>\n",
       "      <td>...</td>\n",
       "      <td>...</td>\n",
       "      <td>...</td>\n",
       "      <td>...</td>\n",
       "      <td>...</td>\n",
       "      <td>...</td>\n",
       "      <td>...</td>\n",
       "      <td>...</td>\n",
       "      <td>...</td>\n",
       "      <td>...</td>\n",
       "    </tr>\n",
       "    <tr>\n",
       "      <th>269182</th>\n",
       "      <td>134695</td>\n",
       "      <td>Lyudmila Ilyinichna Zharkova-Maslakova</td>\n",
       "      <td>F</td>\n",
       "      <td>20.0</td>\n",
       "      <td>175.0</td>\n",
       "      <td>59.0</td>\n",
       "      <td>Soviet Union</td>\n",
       "      <td>URS</td>\n",
       "      <td>1972 Summer</td>\n",
       "      <td>1972</td>\n",
       "      <td>Summer</td>\n",
       "      <td>Munich</td>\n",
       "      <td>Athletics</td>\n",
       "      <td>Athletics Women's 100 metres</td>\n",
       "      <td>NaN</td>\n",
       "    </tr>\n",
       "    <tr>\n",
       "      <th>269184</th>\n",
       "      <td>134695</td>\n",
       "      <td>Lyudmila Ilyinichna Zharkova-Maslakova</td>\n",
       "      <td>F</td>\n",
       "      <td>24.0</td>\n",
       "      <td>175.0</td>\n",
       "      <td>59.0</td>\n",
       "      <td>Soviet Union</td>\n",
       "      <td>URS</td>\n",
       "      <td>1976 Summer</td>\n",
       "      <td>1976</td>\n",
       "      <td>Summer</td>\n",
       "      <td>Montreal</td>\n",
       "      <td>Athletics</td>\n",
       "      <td>Athletics Women's 100 metres</td>\n",
       "      <td>NaN</td>\n",
       "    </tr>\n",
       "    <tr>\n",
       "      <th>269320</th>\n",
       "      <td>134764</td>\n",
       "      <td>Marina Serafimovna Zhirova (Titova-)</td>\n",
       "      <td>F</td>\n",
       "      <td>25.0</td>\n",
       "      <td>170.0</td>\n",
       "      <td>58.0</td>\n",
       "      <td>Soviet Union</td>\n",
       "      <td>URS</td>\n",
       "      <td>1988 Summer</td>\n",
       "      <td>1988</td>\n",
       "      <td>Summer</td>\n",
       "      <td>Seoul</td>\n",
       "      <td>Athletics</td>\n",
       "      <td>Athletics Women's 100 metres</td>\n",
       "      <td>NaN</td>\n",
       "    </tr>\n",
       "    <tr>\n",
       "      <th>270763</th>\n",
       "      <td>135410</td>\n",
       "      <td>Zaidatul Husniah Zulkifli</td>\n",
       "      <td>F</td>\n",
       "      <td>22.0</td>\n",
       "      <td>156.0</td>\n",
       "      <td>40.0</td>\n",
       "      <td>Malaysia</td>\n",
       "      <td>MAS</td>\n",
       "      <td>2016 Summer</td>\n",
       "      <td>2016</td>\n",
       "      <td>Summer</td>\n",
       "      <td>Rio de Janeiro</td>\n",
       "      <td>Athletics</td>\n",
       "      <td>Athletics Women's 100 metres</td>\n",
       "      <td>NaN</td>\n",
       "    </tr>\n",
       "    <tr>\n",
       "      <th>271053</th>\n",
       "      <td>135547</td>\n",
       "      <td>Viktoriya Viktorovna Zyabkina</td>\n",
       "      <td>F</td>\n",
       "      <td>23.0</td>\n",
       "      <td>174.0</td>\n",
       "      <td>62.0</td>\n",
       "      <td>Kazakhstan</td>\n",
       "      <td>KAZ</td>\n",
       "      <td>2016 Summer</td>\n",
       "      <td>2016</td>\n",
       "      <td>Summer</td>\n",
       "      <td>Rio de Janeiro</td>\n",
       "      <td>Athletics</td>\n",
       "      <td>Athletics Women's 100 metres</td>\n",
       "      <td>NaN</td>\n",
       "    </tr>\n",
       "  </tbody>\n",
       "</table>\n",
       "<p>921 rows × 15 columns</p>\n",
       "</div>"
      ],
      "text/plain": [
       "            ID                                    Name Sex   Age  Height  \\\n",
       "526        299             Dana Abdul Razak (Hussain-)   F  22.0   163.0   \n",
       "527        299             Dana Abdul Razak (Hussain-)   F  26.0   163.0   \n",
       "1081       609                      Fartun Abukar Omar   F  18.0   170.0   \n",
       "1096       613                     Kariman Abuljadayel   F  22.0   180.0   \n",
       "1159       644                  Claudia Acerenza Marez   F  22.0   160.0   \n",
       "...        ...                                     ...  ..   ...     ...   \n",
       "269182  134695  Lyudmila Ilyinichna Zharkova-Maslakova   F  20.0   175.0   \n",
       "269184  134695  Lyudmila Ilyinichna Zharkova-Maslakova   F  24.0   175.0   \n",
       "269320  134764    Marina Serafimovna Zhirova (Titova-)   F  25.0   170.0   \n",
       "270763  135410               Zaidatul Husniah Zulkifli   F  22.0   156.0   \n",
       "271053  135547           Viktoriya Viktorovna Zyabkina   F  23.0   174.0   \n",
       "\n",
       "        Weight          Team  NOC        Games  Year  Season            City  \\\n",
       "526       56.0          Iraq  IRQ  2008 Summer  2008  Summer         Beijing   \n",
       "527       56.0          Iraq  IRQ  2012 Summer  2012  Summer          London   \n",
       "1081      58.0       Somalia  SOM  2004 Summer  2004  Summer          Athina   \n",
       "1096      70.0  Saudi Arabia  KSA  2016 Summer  2016  Summer  Rio de Janeiro   \n",
       "1159      55.0       Uruguay  URU  1988 Summer  1988  Summer           Seoul   \n",
       "...        ...           ...  ...          ...   ...     ...             ...   \n",
       "269182    59.0  Soviet Union  URS  1972 Summer  1972  Summer          Munich   \n",
       "269184    59.0  Soviet Union  URS  1976 Summer  1976  Summer        Montreal   \n",
       "269320    58.0  Soviet Union  URS  1988 Summer  1988  Summer           Seoul   \n",
       "270763    40.0      Malaysia  MAS  2016 Summer  2016  Summer  Rio de Janeiro   \n",
       "271053    62.0    Kazakhstan  KAZ  2016 Summer  2016  Summer  Rio de Janeiro   \n",
       "\n",
       "            Sport                         Event Medal  \n",
       "526     Athletics  Athletics Women's 100 metres   NaN  \n",
       "527     Athletics  Athletics Women's 100 metres   NaN  \n",
       "1081    Athletics  Athletics Women's 100 metres   NaN  \n",
       "1096    Athletics  Athletics Women's 100 metres   NaN  \n",
       "1159    Athletics  Athletics Women's 100 metres   NaN  \n",
       "...           ...                           ...   ...  \n",
       "269182  Athletics  Athletics Women's 100 metres   NaN  \n",
       "269184  Athletics  Athletics Women's 100 metres   NaN  \n",
       "269320  Athletics  Athletics Women's 100 metres   NaN  \n",
       "270763  Athletics  Athletics Women's 100 metres   NaN  \n",
       "271053  Athletics  Athletics Women's 100 metres   NaN  \n",
       "\n",
       "[921 rows x 15 columns]"
      ]
     },
     "execution_count": 34,
     "metadata": {},
     "output_type": "execute_result"
    }
   ],
   "source": [
    "#filter our dataset\n",
    "women_100 = df[(df[\"Event\"] == \"Athletics Women's 100 metres\") & df[\"Height\"].notnull() & df[\"Weight\"].notnull()]\n",
    "women_100\n"
   ]
  },
  {
   "cell_type": "code",
   "execution_count": 35,
   "id": "5ac3fb23",
   "metadata": {
    "ExecuteTime": {
     "end_time": "2022-03-30T07:39:35.816847Z",
     "start_time": "2022-03-30T07:39:35.814476Z"
    }
   },
   "outputs": [],
   "source": [
    "#define our variables\n",
    "w_height = women_100[\"Height\"]\n",
    "w_weight = women_100[\"Weight\"]"
   ]
  },
  {
   "cell_type": "code",
   "execution_count": 36,
   "id": "fe046a7f",
   "metadata": {
    "ExecuteTime": {
     "end_time": "2022-03-30T07:39:36.777084Z",
     "start_time": "2022-03-30T07:39:36.513255Z"
    }
   },
   "outputs": [
    {
     "data": {
      "image/png": "[encoded data removed]",
      "text/plain": [
       "<Figure size 1080x720 with 1 Axes>"
      ]
     },
     "metadata": {},
     "output_type": "display_data"
    }
   ],
   "source": [
    "sns.set_context(\"talk\")\n",
    "\n",
    "#plot \n",
    "fig,axes = plt.subplots(1,1, figsize=(15,10))\n",
    "\n",
    "#plot shows the regression line\n",
    "\n",
    "sns.regplot(x=w_weight, y=w_height,data=women_100,ax=axes,\n",
    "            \n",
    "            scatter_kws={'alpha':0.3})\n",
    "\n",
    "axes.set_title(\"Scatter plot: relationship between \\\n",
    " Weight and Height\",fontsize=8)\n",
    "axes.set_xlabel(\"Weight(in kg\")\n",
    "axes.set_ylabel(\"Height (in cm)\")\n",
    "axes.spines['top'].set_visible(False)\n",
    "axes.spines['right'].set_visible(False)\n"
   ]
  },
  {
   "cell_type": "markdown",
   "id": "a8bbc8e5",
   "metadata": {},
   "source": [
    "$~$\n",
    "\n",
    "**From what the plot shows, it seems that there is positive relationship between weight and height.**\n",
    "\n",
    "$~$\n",
    "\n",
    "let's calculate Pearson's correlation coefficient and see whether or not there is correlation between the variables and if there are significantly correlated,\n",
    "\n",
    "$~$"
   ]
  },
  {
   "cell_type": "code",
   "execution_count": 37,
   "id": "05759b9d",
   "metadata": {
    "ExecuteTime": {
     "end_time": "2022-03-30T07:39:41.155361Z",
     "start_time": "2022-03-30T07:39:41.151490Z"
    }
   },
   "outputs": [
    {
     "name": "stdout",
     "output_type": "stream",
     "text": [
      "(0.644174799814726, 4.284134810199894e-109)\n"
     ]
    }
   ],
   "source": [
    "pearson = stats.pearsonr(w_weight,w_height)\n",
    "print(pearson)"
   ]
  },
  {
   "cell_type": "code",
   "execution_count": 38,
   "id": "b0bc8a87",
   "metadata": {
    "ExecuteTime": {
     "end_time": "2022-03-30T07:39:51.464133Z",
     "start_time": "2022-03-30T07:39:51.458867Z"
    }
   },
   "outputs": [
    {
     "name": "stdout",
     "output_type": "stream",
     "text": [
      "Weights and height are significantly correlated\n"
     ]
    }
   ],
   "source": [
    "# Test if p-value is bigger or smaller than alpha\n",
    "alpha = 0.05\n",
    "if pearson[1] < alpha:\n",
    "    print(\"Weights and height are significantly correlated\")\n",
    "else:\n",
    "    print(\"No significant correlation found\")"
   ]
  },
  {
   "cell_type": "markdown",
   "id": "d7caa1ff",
   "metadata": {},
   "source": [
    "$~$\n",
    "___\n",
    "####  Exercise 3\n",
    "\n",
    "$~$\n",
    "\n",
    "Continue with the sports theme dataset you like and select three attributes from the dataset. Calculate the p-value and say if you reject the null hypothesis by taking a 5% alpha.\n",
    "\n",
    "$~$\n",
    "___"
   ]
  },
  {
   "cell_type": "markdown",
   "id": "f96c3f11",
   "metadata": {},
   "source": [
    "$~$\n",
    "For this exercise, we are going to check if the are presence of significant variantion in Weight of Olympic male athletes from teams of USA, France and China\n",
    "\n",
    "$~$\n",
    "\n",
    "+ First, let's do a some plots to see how our variables are distributed.\n",
    "+ Then, let's performance a test to see whether any differences between these groups of values are significant.\n",
    "\n",
    "$~$\n",
    "the test will allow us to verify the following:\n",
    "\n",
    "+ $H_0$ : $\\mu_A$ $=$ $\\mu_B$ = $\\mu_C$ (There is no difference between weight of the groups ) \n",
    "+ $H_1$ : there is a difference between the means and groups \n",
    "\n",
    "Where   \n",
    "+  $\\mu_A$ is weight from athletes of USA\n",
    "+  $\\mu_B$ is weight from athletes of China\n",
    "+  $\\mu_C$ is weight from athletes of France\n",
    "\n",
    "\n",
    "$~$\n",
    "\n"
   ]
  },
  {
   "cell_type": "code",
   "execution_count": 39,
   "id": "8fffa0cc",
   "metadata": {
    "ExecuteTime": {
     "end_time": "2022-03-30T07:39:53.286890Z",
     "start_time": "2022-03-30T07:39:53.215281Z"
    }
   },
   "outputs": [],
   "source": [
    "df_group= df[(df[\"NOC\"] == \"CHN\") | (df[\"NOC\"] == \"FRA\") | (df[\"NOC\"]== \"USA\")]\n",
    "df_group= df_group[df_group[\"Sex\"]==\"M\"]\n",
    "df_group= df_group[df_group[\"Event\"].str.contains(\"Athletics\")]\n",
    "df_group= df_group[df_group[\"Weight\"].notnull()]"
   ]
  },
  {
   "cell_type": "code",
   "execution_count": 40,
   "id": "a5371e4c",
   "metadata": {
    "ExecuteTime": {
     "end_time": "2022-03-30T07:39:54.081589Z",
     "start_time": "2022-03-30T07:39:54.046627Z"
    }
   },
   "outputs": [
    {
     "data": {
      "text/html": [
       "<div>\n",
       "<style scoped>\n",
       "    .dataframe tbody tr th:only-of-type {\n",
       "        vertical-align: middle;\n",
       "    }\n",
       "\n",
       "    .dataframe tbody tr th {\n",
       "        vertical-align: top;\n",
       "    }\n",
       "\n",
       "    .dataframe thead th {\n",
       "        text-align: right;\n",
       "    }\n",
       "</style>\n",
       "<table border=\"1\" class=\"dataframe\">\n",
       "  <thead>\n",
       "    <tr style=\"text-align: right;\">\n",
       "      <th></th>\n",
       "      <th>ID</th>\n",
       "      <th>Name</th>\n",
       "      <th>Sex</th>\n",
       "      <th>Age</th>\n",
       "      <th>Height</th>\n",
       "      <th>Weight</th>\n",
       "      <th>Team</th>\n",
       "      <th>NOC</th>\n",
       "      <th>Games</th>\n",
       "      <th>Year</th>\n",
       "      <th>Season</th>\n",
       "      <th>City</th>\n",
       "      <th>Sport</th>\n",
       "      <th>Event</th>\n",
       "      <th>Medal</th>\n",
       "    </tr>\n",
       "  </thead>\n",
       "  <tbody>\n",
       "    <tr>\n",
       "      <th>98</th>\n",
       "      <td>34</td>\n",
       "      <td>Jamale (Djamel-) Aarrass (Ahrass-)</td>\n",
       "      <td>M</td>\n",
       "      <td>30.0</td>\n",
       "      <td>187.0</td>\n",
       "      <td>76.0</td>\n",
       "      <td>France</td>\n",
       "      <td>FRA</td>\n",
       "      <td>2012 Summer</td>\n",
       "      <td>2012</td>\n",
       "      <td>Summer</td>\n",
       "      <td>London</td>\n",
       "      <td>Athletics</td>\n",
       "      <td>Athletics Men's 1,500 metres</td>\n",
       "      <td>NaN</td>\n",
       "    </tr>\n",
       "    <tr>\n",
       "      <th>145</th>\n",
       "      <td>52</td>\n",
       "      <td>Patrick Abada</td>\n",
       "      <td>M</td>\n",
       "      <td>22.0</td>\n",
       "      <td>189.0</td>\n",
       "      <td>80.0</td>\n",
       "      <td>France</td>\n",
       "      <td>FRA</td>\n",
       "      <td>1976 Summer</td>\n",
       "      <td>1976</td>\n",
       "      <td>Summer</td>\n",
       "      <td>Montreal</td>\n",
       "      <td>Athletics</td>\n",
       "      <td>Athletics Men's Pole Vault</td>\n",
       "      <td>NaN</td>\n",
       "    </tr>\n",
       "    <tr>\n",
       "      <th>273</th>\n",
       "      <td>142</td>\n",
       "      <td>David \"Dave\" Abbott</td>\n",
       "      <td>M</td>\n",
       "      <td>26.0</td>\n",
       "      <td>183.0</td>\n",
       "      <td>75.0</td>\n",
       "      <td>United States</td>\n",
       "      <td>USA</td>\n",
       "      <td>1928 Summer</td>\n",
       "      <td>1928</td>\n",
       "      <td>Summer</td>\n",
       "      <td>Amsterdam</td>\n",
       "      <td>Athletics</td>\n",
       "      <td>Athletics Men's 5,000 metres</td>\n",
       "      <td>NaN</td>\n",
       "    </tr>\n",
       "    <tr>\n",
       "      <th>466</th>\n",
       "      <td>256</td>\n",
       "      <td>Abdihakim \"Abdi\" Abdirahman</td>\n",
       "      <td>M</td>\n",
       "      <td>23.0</td>\n",
       "      <td>178.0</td>\n",
       "      <td>61.0</td>\n",
       "      <td>United States</td>\n",
       "      <td>USA</td>\n",
       "      <td>2000 Summer</td>\n",
       "      <td>2000</td>\n",
       "      <td>Summer</td>\n",
       "      <td>Sydney</td>\n",
       "      <td>Athletics</td>\n",
       "      <td>Athletics Men's 10,000 metres</td>\n",
       "      <td>NaN</td>\n",
       "    </tr>\n",
       "    <tr>\n",
       "      <th>467</th>\n",
       "      <td>256</td>\n",
       "      <td>Abdihakim \"Abdi\" Abdirahman</td>\n",
       "      <td>M</td>\n",
       "      <td>27.0</td>\n",
       "      <td>178.0</td>\n",
       "      <td>61.0</td>\n",
       "      <td>United States</td>\n",
       "      <td>USA</td>\n",
       "      <td>2004 Summer</td>\n",
       "      <td>2004</td>\n",
       "      <td>Summer</td>\n",
       "      <td>Athina</td>\n",
       "      <td>Athletics</td>\n",
       "      <td>Athletics Men's 10,000 metres</td>\n",
       "      <td>NaN</td>\n",
       "    </tr>\n",
       "  </tbody>\n",
       "</table>\n",
       "</div>"
      ],
      "text/plain": [
       "      ID                                Name Sex   Age  Height  Weight  \\\n",
       "98    34  Jamale (Djamel-) Aarrass (Ahrass-)   M  30.0   187.0    76.0   \n",
       "145   52                       Patrick Abada   M  22.0   189.0    80.0   \n",
       "273  142                 David \"Dave\" Abbott   M  26.0   183.0    75.0   \n",
       "466  256         Abdihakim \"Abdi\" Abdirahman   M  23.0   178.0    61.0   \n",
       "467  256         Abdihakim \"Abdi\" Abdirahman   M  27.0   178.0    61.0   \n",
       "\n",
       "              Team  NOC        Games  Year  Season       City      Sport  \\\n",
       "98          France  FRA  2012 Summer  2012  Summer     London  Athletics   \n",
       "145         France  FRA  1976 Summer  1976  Summer   Montreal  Athletics   \n",
       "273  United States  USA  1928 Summer  1928  Summer  Amsterdam  Athletics   \n",
       "466  United States  USA  2000 Summer  2000  Summer     Sydney  Athletics   \n",
       "467  United States  USA  2004 Summer  2004  Summer     Athina  Athletics   \n",
       "\n",
       "                             Event Medal  \n",
       "98    Athletics Men's 1,500 metres   NaN  \n",
       "145     Athletics Men's Pole Vault   NaN  \n",
       "273   Athletics Men's 5,000 metres   NaN  \n",
       "466  Athletics Men's 10,000 metres   NaN  \n",
       "467  Athletics Men's 10,000 metres   NaN  "
      ]
     },
     "metadata": {},
     "output_type": "display_data"
    },
    {
     "name": "stdout",
     "output_type": "stream",
     "text": [
      "<class 'pandas.core.frame.DataFrame'>\n",
      "Int64Index: 3122 entries, 98 to 271044\n",
      "Data columns (total 15 columns):\n",
      " #   Column  Non-Null Count  Dtype  \n",
      "---  ------  --------------  -----  \n",
      " 0   ID      3122 non-null   int64  \n",
      " 1   Name    3122 non-null   object \n",
      " 2   Sex     3122 non-null   object \n",
      " 3   Age     3117 non-null   float64\n",
      " 4   Height  3122 non-null   float64\n",
      " 5   Weight  3122 non-null   float64\n",
      " 6   Team    3122 non-null   object \n",
      " 7   NOC     3122 non-null   object \n",
      " 8   Games   3122 non-null   object \n",
      " 9   Year    3122 non-null   int64  \n",
      " 10  Season  3122 non-null   object \n",
      " 11  City    3122 non-null   object \n",
      " 12  Sport   3122 non-null   object \n",
      " 13  Event   3122 non-null   object \n",
      " 14  Medal   867 non-null    object \n",
      "dtypes: float64(3), int64(2), object(10)\n",
      "memory usage: 390.2+ KB\n"
     ]
    },
    {
     "data": {
      "text/plain": [
       "None"
      ]
     },
     "metadata": {},
     "output_type": "display_data"
    },
    {
     "data": {
      "text/plain": [
       "(3122, 15)"
      ]
     },
     "metadata": {},
     "output_type": "display_data"
    },
    {
     "data": {
      "text/plain": [
       "array(['FRA', 'USA', 'CHN'], dtype=object)"
      ]
     },
     "metadata": {},
     "output_type": "display_data"
    }
   ],
   "source": [
    "display(df_group.head())\n",
    "display(df_group.info())\n",
    "display(df_group.shape)\n",
    "display(df_group.NOC.unique())"
   ]
  },
  {
   "cell_type": "markdown",
   "id": "45442f3a",
   "metadata": {},
   "source": [
    "$~$\n",
    "\n",
    "Let's make some plots:\n",
    "\n",
    "$~$\n"
   ]
  },
  {
   "cell_type": "code",
   "execution_count": 41,
   "id": "c47fa4bd",
   "metadata": {
    "ExecuteTime": {
     "end_time": "2022-03-30T07:39:55.779773Z",
     "start_time": "2022-03-30T07:39:55.386352Z"
    }
   },
   "outputs": [
    {
     "data": {
      "image/png": "[encoded data removed]",
      "text/plain": [
       "<Figure size 640x480 with 1 Axes>"
      ]
     },
     "metadata": {},
     "output_type": "display_data"
    },
    {
     "name": "stdout",
     "output_type": "stream",
     "text": [
      "\n"
     ]
    }
   ],
   "source": [
    "print(p9.ggplot(df_group)+ p9.aes(x='NOC',y='Weight', fill='NOC')+ p9.geom_boxplot())"
   ]
  },
  {
   "cell_type": "code",
   "execution_count": 42,
   "id": "30d83246",
   "metadata": {
    "ExecuteTime": {
     "end_time": "2022-03-30T07:39:56.937405Z",
     "start_time": "2022-03-30T07:39:56.429765Z"
    }
   },
   "outputs": [
    {
     "data": {
      "image/png": "[encoded data removed]",
      "text/plain": [
       "<Figure size 640x480 with 1 Axes>"
      ]
     },
     "metadata": {},
     "output_type": "display_data"
    },
    {
     "name": "stdout",
     "output_type": "stream",
     "text": [
      "\n"
     ]
    }
   ],
   "source": [
    "print(p9.ggplot(df_group)+ p9.aes(x='Weight', fill='NOC') + p9.geom_density(alpha=0.4))\n"
   ]
  },
  {
   "cell_type": "markdown",
   "id": "9d30ebab",
   "metadata": {},
   "source": [
    "$~$\n",
    "\n",
    "In the plots above we see that possibly our variables do not have a normal distribution. Since the normality of the data distribution is an assumption we have to check let's do the verification\n",
    " \n",
    "\n",
    "\n",
    "$~$"
   ]
  },
  {
   "cell_type": "markdown",
   "id": "995efe3b",
   "metadata": {},
   "source": [
    "$~$\n",
    "\n",
    "let's use the [Shapiro-Wilk](https://en.wikipedia.org/wiki/Shapiro%E2%80%93Wilk_test) test to determine if our variables have a normal distribution\n",
    "\n",
    "$~$\n"
   ]
  },
  {
   "cell_type": "code",
   "execution_count": 43,
   "id": "de841885",
   "metadata": {
    "ExecuteTime": {
     "end_time": "2022-03-30T07:39:58.237968Z",
     "start_time": "2022-03-30T07:39:58.229064Z"
    }
   },
   "outputs": [],
   "source": [
    "# Create arrays\n",
    "France_athletes = df_group[df_group.NOC == \"FRA\"].Weight\n",
    "US_athletes = df_group[df_group.NOC == \"USA\"].Weight\n",
    "China_athletes = df_group[df_group.NOC == \"CHN\"].Weight"
   ]
  },
  {
   "cell_type": "code",
   "execution_count": 44,
   "id": "3e0f02f7",
   "metadata": {
    "ExecuteTime": {
     "end_time": "2022-03-30T07:39:58.871291Z",
     "start_time": "2022-03-30T07:39:58.868558Z"
    }
   },
   "outputs": [
    {
     "name": "stdout",
     "output_type": "stream",
     "text": [
      "806\n",
      "2140\n",
      "176\n"
     ]
    }
   ],
   "source": [
    "print(len(France_athletes))\n",
    "print(len(US_athletes))\n",
    "print(len(China_athletes))"
   ]
  },
  {
   "cell_type": "code",
   "execution_count": 45,
   "id": "1dd73ef1",
   "metadata": {
    "ExecuteTime": {
     "end_time": "2022-03-30T07:39:59.447503Z",
     "start_time": "2022-03-30T07:39:59.444259Z"
    }
   },
   "outputs": [
    {
     "name": "stdout",
     "output_type": "stream",
     "text": [
      "stat=0.890, p=0.000\n",
      "Probably not Gaussian\n"
     ]
    }
   ],
   "source": [
    "# Shapiro-Wilk Normality Test\n",
    "\n",
    "stat, p = stats.shapiro(France_athletes)\n",
    "print('stat=%.3f, p=%.3f' % (stat, p))\n",
    "if p > 0.05:\n",
    "        print('Probably Gaussian')\n",
    "else:\n",
    "        print('Probably not Gaussian')"
   ]
  },
  {
   "cell_type": "code",
   "execution_count": 46,
   "id": "5997da85",
   "metadata": {
    "ExecuteTime": {
     "end_time": "2022-03-30T07:39:59.944324Z",
     "start_time": "2022-03-30T07:39:59.940716Z"
    }
   },
   "outputs": [
    {
     "name": "stdout",
     "output_type": "stream",
     "text": [
      "stat=0.879, p=0.000\n",
      "Probably not Gaussian\n"
     ]
    }
   ],
   "source": [
    "# Shapiro-Wilk Normality Test\n",
    "\n",
    "stat, p = stats.shapiro(US_athletes)\n",
    "print('stat=%.3f, p=%.3f' % (stat, p))\n",
    "if p > 0.05:\n",
    "        print('Probably Gaussian')\n",
    "else:\n",
    "        print('Probably not Gaussian')"
   ]
  },
  {
   "cell_type": "code",
   "execution_count": 47,
   "id": "1eb767c7",
   "metadata": {
    "ExecuteTime": {
     "end_time": "2022-03-30T07:40:00.481379Z",
     "start_time": "2022-03-30T07:40:00.476834Z"
    }
   },
   "outputs": [
    {
     "name": "stdout",
     "output_type": "stream",
     "text": [
      "stat=0.899, p=0.000\n",
      "Probably not Gaussian\n"
     ]
    }
   ],
   "source": [
    "# Shapiro-Wilk Normality Test\n",
    "\n",
    "\n",
    "stat, p = stats.shapiro(China_athletes)\n",
    "print('stat=%.3f, p=%.3f' % (stat, p))\n",
    "if p > 0.05:\n",
    "        print('Probably Gaussian')\n",
    "else:\n",
    "        print('Probably not Gaussian')"
   ]
  },
  {
   "cell_type": "markdown",
   "id": "d612e1cb",
   "metadata": {},
   "source": [
    "$~$\n",
    "\n",
    "**we have determined that our variables do not comply the assumption of normality**\n",
    "\n",
    "$~$"
   ]
  },
  {
   "cell_type": "markdown",
   "id": "80df366a",
   "metadata": {},
   "source": [
    "$~$\n",
    "\n",
    "how we already detectet data do not comply with the assumption of normality. For this reason, we will have to use non-parametric \n",
    "test.\n",
    "\n",
    " $~$"
   ]
  },
  {
   "cell_type": "code",
   "execution_count": 48,
   "id": "0e08ea7d",
   "metadata": {
    "ExecuteTime": {
     "end_time": "2022-03-30T07:40:03.049401Z",
     "start_time": "2022-03-30T07:40:03.042889Z"
    }
   },
   "outputs": [
    {
     "name": "stdout",
     "output_type": "stream",
     "text": [
      "KruskalResult(statistic=71.08813416155202, pvalue=3.659382462661707e-16)\n"
     ]
    }
   ],
   "source": [
    "# Perform The Kruskal-Wallis -test \n",
    "kustal = stats.kruskal(France_athletes,US_athletes,China_athletes)\n",
    "print(kustal)"
   ]
  },
  {
   "cell_type": "markdown",
   "id": "94fff02b",
   "metadata": {},
   "source": [
    "$~$\n",
    "\n",
    "Having calculate the test it will allow us to verify the following:\n",
    "\n",
    "+ $H_0$ : The median is equal across all groups.\n",
    "+ $H_1$ : The median is not equal across all groups.\n",
    "\n",
    "\n",
    "$~$\n"
   ]
  },
  {
   "cell_type": "code",
   "execution_count": 49,
   "id": "c82a3dcb",
   "metadata": {
    "ExecuteTime": {
     "end_time": "2022-03-30T07:40:04.164119Z",
     "start_time": "2022-03-30T07:40:04.159848Z"
    }
   },
   "outputs": [
    {
     "name": "stdout",
     "output_type": "stream",
     "text": [
      "we can reject the null hypothesis\n"
     ]
    }
   ],
   "source": [
    "# Test significance\n",
    "alpha = 0.05\n",
    "if (kustal[1] < alpha):\n",
    "    print(\"we can reject the null hypothesis\")\n",
    "else:\n",
    "    print(\"No significant difference found\")\n"
   ]
  },
  {
   "cell_type": "markdown",
   "id": "07c95ddb",
   "metadata": {},
   "source": [
    "$~$\n",
    "\n",
    "The p value obtained from Kruskal-Wallis -test  analysis is significant (p < 0.05), and therefore, we conclude that there are significant differences significant differences exist between the weights of athletes for each country.\n",
    "\n",
    "$~$"
   ]
  },
  {
   "cell_type": "markdown",
   "id": "dca1eb0c",
   "metadata": {},
   "source": [
    "$~$\n",
    "___\n",
    "####  Conclusions\n",
    "\n",
    "$~$\n",
    "+ There are different methods to verify the normality of the data distribution.\n",
    "+ The graphic approach (for the analysis of the normality of the data distribution) is useful but we cannot only rely on the plots, it is also necessary to use the statistical tests\n",
    "+  Before performing a statistical test, it is important to know what assumptions this test requires.\n",
    "\n",
    "\n",
    "\n",
    "\n",
    "___\n",
    "$~$"
   ]
  },
  {
   "cell_type": "markdown",
   "id": "d0eedf5c",
   "metadata": {},
   "source": [
    "___\n",
    "$~$\n",
    "\n",
    "####  *References*:\n",
    "\n",
    "+ [Scipy Stats ttest_1samp Hypothesis Testing ](https://stackoverflow.com/questions/35788140/scipy-stats-ttest-1samp-hypothesis-testing-for-comparing-previous-performance-to) \n",
    "+ [Chi-Square Test, with Python](https://towardsdatascience.com/chi-square-test-with-python-d8ba98117626) \n",
    "+ [Experimental Design in Python](https://www.datacamp.com/courses/experimental-design-in-python) \n",
    "+ [Análisis de normalidad con python](https://www.cienciadedatos.net/documentos/pystats06-analisis-normalidad-python.html) \n",
    "+ [Methods for Normality Test with Application in Python](https://towardsdatascience.com/methods-for-normality-test-with-application-in-python-bb91b49ed0f5)\n",
    "+ [How to Perform a Kruskal-Wallis Test in Python](https://www.statology.org/kruskal-wallis-test-python/)\n",
    "\n",
    "$~$\n",
    "___"
   ]
  }
 ],
 "metadata": {
  "kernelspec": {
   "display_name": "Python 3 (ipykernel)",
   "language": "python",
   "name": "python3"
  },
  "language_info": {
   "codemirror_mode": {
    "name": "ipython",
    "version": 3
   },
   "file_extension": ".py",
   "mimetype": "text/x-python",
   "name": "python",
   "nbconvert_exporter": "python",
   "pygments_lexer": "ipython3",
   "version": "3.9.7"
  },
  "toc": {
   "base_numbering": 1,
   "nav_menu": {},
   "number_sections": false,
   "sideBar": true,
   "skip_h1_title": false,
   "title_cell": "Table of Contents",
   "title_sidebar": "Contents",
   "toc_cell": false,
   "toc_position": {},
   "toc_section_display": true,
   "toc_window_display": false
  }
 },
 "nbformat": 4,
 "nbformat_minor": 5
}
